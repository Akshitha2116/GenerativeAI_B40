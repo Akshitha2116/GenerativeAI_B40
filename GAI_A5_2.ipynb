{
  "nbformat": 4,
  "nbformat_minor": 0,
  "metadata": {
    "colab": {
      "provenance": [],
      "include_colab_link": true
    },
    "kernelspec": {
      "name": "python3",
      "display_name": "Python 3"
    },
    "language_info": {
      "name": "python"
    }
  },
  "cells": [
    {
      "cell_type": "markdown",
      "metadata": {
        "id": "view-in-github",
        "colab_type": "text"
      },
      "source": [
        "<a href=\"https://colab.research.google.com/github/Akshitha2116/GenerativeAI_B40/blob/main/GAI_A5_2.ipynb\" target=\"_parent\"><img src=\"https://colab.research.google.com/assets/colab-badge.svg\" alt=\"Open In Colab\"/></a>"
      ]
    },
    {
      "cell_type": "code",
      "source": [
        "import numpy as np\n",
        "def sigmoid(x):\n",
        "    return 1 / (1 + np.exp(-x))\n",
        "\n",
        "def sigmoid_derivative(x):\n",
        "    return x * (1 - x)\n",
        "X_train = np.array([[0.2, 0.1], [0.3, 0.2], [0.4, 0.3], [0.7, 0.6], [0.8, 0.7], [0.9, 0.8]])\n",
        "y_train = np.array([[0.3441], [0.3500], [0.3558], [0.3729], [0.3785], [0.3841]])\n",
        "X_test = np.array([[0.5, 0.4], [0.6, 0.5]])\n",
        "y_test = np.array([[0.3615], [0.3672]])\n",
        "input_neurons = 2\n",
        "hidden_neurons = 3\n",
        "output_neurons = 1\n",
        "\n",
        "def initialize_weights():\n",
        "    np.random.seed(42)\n",
        "    W1 = np.random.rand(input_neurons, hidden_neurons)\n",
        "    b1 = np.random.rand(1, hidden_neurons)\n",
        "    W2 = np.random.rand(hidden_neurons, output_neurons)\n",
        "    b2 = np.random.rand(1, output_neurons)\n",
        "    return W1, b1, W2, b2\n",
        "\n",
        "def train_ann(X, y, W1, b1, W2, b2, learning_rate=0.1, epochs=10000):\n",
        "    for epoch in range(epochs):\n",
        "        hidden_input = np.dot(X, W1) + b1\n",
        "        hidden_output = sigmoid(hidden_input)\n",
        "        final_input = np.dot(hidden_output, W2) + b2\n",
        "        final_output = final_input\n",
        "        error = y - final_output\n",
        "        d_output = error\n",
        "        d_hidden = d_output.dot(W2.T) * sigmoid_derivative(hidden_output)\n",
        "        W2 += learning_rate * hidden_output.T.dot(d_output)\n",
        "        b2 += learning_rate * np.sum(d_output, axis=0, keepdims=True)\n",
        "        W1 += learning_rate * X.T.dot(d_hidden)\n",
        "        b1 += learning_rate * np.sum(d_hidden, axis=0, keepdims=True)\n",
        "\n",
        "    return W1, b1, W2, b2\n",
        "\n",
        "def predict(X, W1, b1, W2, b2):\n",
        "    hidden_input = np.dot(X, W1) + b1\n",
        "    hidden_output = sigmoid(hidden_input)\n",
        "    final_input = np.dot(hidden_output, W2) + b2\n",
        "    return final_input\n",
        "def mse(y_true, y_pred):\n",
        "    return np.mean((y_true - y_pred) ** 2)\n",
        "W1, b1, W2, b2 = initialize_weights()\n",
        "\n",
        "\n",
        "W1, b1, W2, b2 = train_ann(X_train, y_train, W1, b1, W2, b2)\n",
        "\n",
        "y_train_pred = predict(X_train, W1, b1, W2, b2)\n",
        "y_test_pred = predict(X_test, W1, b1, W2, b2)\n",
        "\n",
        "print(\"MSE on Training Data:\", mse(y_train, y_train_pred))\n",
        "print(\"MSE on Test Data:\", mse(y_test, y_test_pred))\n",
        "\n",
        "\n",
        "x1, x2 = map(float, input(\"Enter x1 and x2: \").split())\n",
        "user_input = np.array([[x1, x2]])\n",
        "print(\"Predicted Output:\", predict(user_input, W1, b1, W2, b2)[0][0])"
      ],
      "metadata": {
        "colab": {
          "base_uri": "https://localhost:8080/"
        },
        "id": "-2gKb3csZ4TF",
        "outputId": "aa609e05-6b5d-47f6-8b21-b1fc5f884568"
      },
      "execution_count": 1,
      "outputs": [
        {
          "output_type": "stream",
          "name": "stdout",
          "text": [
            "MSE on Training Data: 2.619887014564789e-07\n",
            "MSE on Test Data: 6.032357075754632e-07\n",
            "Enter x1 and x2: 0.5 0.4\n",
            "Predicted Output: 0.36069293207365993\n"
          ]
        }
      ]
    }
  ]
}